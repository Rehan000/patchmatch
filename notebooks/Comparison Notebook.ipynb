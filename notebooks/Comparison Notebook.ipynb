{
 "cells": [
  {
   "cell_type": "markdown",
   "id": "3f3cffba-c195-4021-980a-7a932823c699",
   "metadata": {},
   "source": [
    "# Comparison Notebook"
   ]
  },
  {
   "cell_type": "code",
   "execution_count": 1,
   "id": "c01699b1-915a-4cbd-b8a4-2ac09afe96ed",
   "metadata": {},
   "outputs": [
    {
     "name": "stderr",
     "output_type": "stream",
     "text": [
      "/home/rehan/anaconda3/envs/patchmatch++/lib/python3.12/site-packages/requests/__init__.py:86: RequestsDependencyWarning: Unable to find acceptable character detection dependency (chardet or charset_normalizer).\n",
      "  warnings.warn(\n",
      "2025-07-15 21:31:44.608322: E external/local_xla/xla/stream_executor/cuda/cuda_fft.cc:467] Unable to register cuFFT factory: Attempting to register factory for plugin cuFFT when one has already been registered\n",
      "WARNING: All log messages before absl::InitializeLog() is called are written to STDERR\n",
      "E0000 00:00:1752597105.103010  214210 cuda_dnn.cc:8579] Unable to register cuDNN factory: Attempting to register factory for plugin cuDNN when one has already been registered\n",
      "E0000 00:00:1752597105.249455  214210 cuda_blas.cc:1407] Unable to register cuBLAS factory: Attempting to register factory for plugin cuBLAS when one has already been registered\n",
      "W0000 00:00:1752597106.816587  214210 computation_placer.cc:177] computation placer already registered. Please check linkage and avoid linking the same target more than once.\n",
      "W0000 00:00:1752597106.816616  214210 computation_placer.cc:177] computation placer already registered. Please check linkage and avoid linking the same target more than once.\n",
      "W0000 00:00:1752597106.816618  214210 computation_placer.cc:177] computation placer already registered. Please check linkage and avoid linking the same target more than once.\n",
      "W0000 00:00:1752597106.816619  214210 computation_placer.cc:177] computation placer already registered. Please check linkage and avoid linking the same target more than once.\n",
      "2025-07-15 21:31:46.930516: I tensorflow/core/platform/cpu_feature_guard.cc:210] This TensorFlow binary is optimized to use available CPU instructions in performance-critical operations.\n",
      "To enable the following instructions: AVX2 FMA, in other operations, rebuild TensorFlow with the appropriate compiler flags.\n"
     ]
    }
   ],
   "source": [
    "import torch\n",
    "import time\n",
    "import os\n",
    "import requests\n",
    "import tempfile\n",
    "import numpy as np\n",
    "import onnxruntime as ort\n",
    "from transformers import AutoImageProcessor, SuperPointForKeypointDetection\n",
    "from models.patchmatch_triplet_descriptor import PatchMatchTripletNetwork, PatchMatchEncoder\n",
    "from PIL import Image"
   ]
  },
  {
   "cell_type": "code",
   "execution_count": 3,
   "id": "9520ff49-0947-4234-8950-a40b2bb4cf3d",
   "metadata": {},
   "outputs": [
    {
     "name": "stdout",
     "output_type": "stream",
     "text": [
      "\n",
      "✅ SuperPoint Evaluation on Single Image\n",
      "🖼️  Image Resolution        : 480 x 640\n",
      "📦 Model Size               : 4.97 MB\n",
      "🔢 Model Parameters         : 1,300,865\n",
      "⏱️  Inference Time (CPU)     : 547.33 ms\n",
      "#️⃣  Descriptors Extracted   : 556\n"
     ]
    }
   ],
   "source": [
    "# --- Load a single image from URL ---\n",
    "def load_image(url):\n",
    "    return Image.open(requests.get(url, stream=True).raw).convert(\"RGB\")\n",
    "\n",
    "image = load_image(\"http://images.cocodataset.org/val2017/000000039769.jpg\")\n",
    "image_resolution = (image.height, image.width)\n",
    "\n",
    "# --- Load processor and model ---\n",
    "processor = AutoImageProcessor.from_pretrained(\"magic-leap-community/superpoint\")\n",
    "model = SuperPointForKeypointDetection.from_pretrained(\"magic-leap-community/superpoint\")\n",
    "model.eval()\n",
    "\n",
    "# --- Move to CPU ---\n",
    "device = torch.device(\"cpu\")\n",
    "model.to(device)\n",
    "\n",
    "# --- Measure model size (MB) ---\n",
    "def get_model_size(model):\n",
    "    with tempfile.NamedTemporaryFile(delete=False) as tmp:\n",
    "        torch.save(model.state_dict(), tmp.name)\n",
    "        size_mb = os.path.getsize(tmp.name) / (1024 * 1024)\n",
    "    os.remove(tmp.name)\n",
    "    return round(size_mb, 2)\n",
    "\n",
    "# --- Count total number of parameters ---\n",
    "def count_parameters(model):\n",
    "    return sum(p.numel() for p in model.parameters())\n",
    "\n",
    "model_size_mb = get_model_size(model)\n",
    "param_count = count_parameters(model)\n",
    "\n",
    "# --- Preprocess single image ---\n",
    "inputs = processor([image], return_tensors=\"pt\").to(device)\n",
    "\n",
    "# --- Inference timing ---\n",
    "start_time = time.time()\n",
    "with torch.no_grad():\n",
    "    outputs = model(**inputs)\n",
    "end_time = time.time()\n",
    "\n",
    "inference_time_ms = (end_time - start_time) * 1000\n",
    "\n",
    "# --- Post-process output ---\n",
    "image_size = [image_resolution]\n",
    "output = processor.post_process_keypoint_detection(outputs, image_size)[0]\n",
    "num_descriptors = output[\"descriptors\"].shape[0]\n",
    "\n",
    "# --- Print Results ---\n",
    "print(\"\\n✅ SuperPoint Evaluation on Single Image\")\n",
    "print(f\"🖼️  Image Resolution        : {image_resolution[0]} x {image_resolution[1]}\")\n",
    "print(f\"📦 Model Size               : {model_size_mb} MB\")\n",
    "print(f\"🔢 Model Parameters         : {param_count:,}\")\n",
    "print(f\"⏱️  Inference Time (CPU)     : {inference_time_ms:.2f} ms\")\n",
    "print(f\"#️⃣  Descriptors Extracted   : {num_descriptors}\")"
   ]
  },
  {
   "cell_type": "code",
   "execution_count": 30,
   "id": "08214d00-b779-4c1c-908b-a082b3a9dcbe",
   "metadata": {},
   "outputs": [
    {
     "name": "stdout",
     "output_type": "stream",
     "text": [
      "\n",
      "✅ PatchMatch ONNX Benchmark (CPU)\n",
      "📦 ONNX Model Size         : 0.38 MB\n",
      "📤 Input Patches           : 550 x 40 x 40\n",
      "📥 Output Embedding Shape  : (550, 128)\n",
      "⏱️  Inference Time (CPU)    : 1120.85 ms\n"
     ]
    }
   ],
   "source": [
    "# --- Configuration ---\n",
    "MODEL_PATH = \"../model_outputs/patchmatch_model.onnx\"\n",
    "PATCH_SHAPE = (40, 40)\n",
    "NUM_PATCHES = 550\n",
    "EMBED_DIM = 128\n",
    "\n",
    "# --- Generate dummy input ---\n",
    "dummy_patches = np.random.rand(NUM_PATCHES, 1, *PATCH_SHAPE).astype(np.float32)\n",
    "\n",
    "# --- Load ONNX session (CPU inference) ---\n",
    "session = ort.InferenceSession(MODEL_PATH, providers=[\"CPUExecutionProvider\"])\n",
    "input_name = session.get_inputs()[0].name\n",
    "\n",
    "# --- Inference timing ---\n",
    "start_time = time.time()\n",
    "output = session.run(None, {input_name: dummy_patches})\n",
    "end_time = time.time()\n",
    "\n",
    "# --- Output shape ---\n",
    "output_tensor = output[0]\n",
    "embedding_shape = output_tensor.shape\n",
    "\n",
    "# --- Model size ---\n",
    "model_size_mb = os.path.getsize(MODEL_PATH) / (1024 * 1024)\n",
    "\n",
    "# --- Time in ms ---\n",
    "inference_time_ms = (end_time - start_time) * 1000\n",
    "\n",
    "# --- Print results ---\n",
    "print(\"\\n✅ PatchMatch ONNX Benchmark (CPU)\")\n",
    "print(f\"📦 ONNX Model Size         : {model_size_mb:.2f} MB\")\n",
    "print(f\"📤 Input Patches           : {NUM_PATCHES} x {PATCH_SHAPE[0]} x {PATCH_SHAPE[1]}\")\n",
    "print(f\"📥 Output Embedding Shape  : {embedding_shape}\")\n",
    "print(f\"⏱️  Inference Time (CPU)    : {inference_time_ms:.2f} ms\")"
   ]
  },
  {
   "cell_type": "code",
   "execution_count": null,
   "id": "b8bf3085-3eeb-4b1d-b19a-1cc8ee269a77",
   "metadata": {},
   "outputs": [],
   "source": []
  }
 ],
 "metadata": {
  "kernelspec": {
   "display_name": "Python 3 (ipykernel)",
   "language": "python",
   "name": "python3"
  },
  "language_info": {
   "codemirror_mode": {
    "name": "ipython",
    "version": 3
   },
   "file_extension": ".py",
   "mimetype": "text/x-python",
   "name": "python",
   "nbconvert_exporter": "python",
   "pygments_lexer": "ipython3",
   "version": "3.12.11"
  }
 },
 "nbformat": 4,
 "nbformat_minor": 5
}
