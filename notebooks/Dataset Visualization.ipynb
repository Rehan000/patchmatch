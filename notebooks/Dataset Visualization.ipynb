{
 "cells": [
  {
   "cell_type": "markdown",
   "id": "1c524237-c280-4c46-a26e-a64df9a0519d",
   "metadata": {},
   "source": [
    "# Data Visualization Notebook"
   ]
  },
  {
   "cell_type": "markdown",
   "id": "848c6343-4f74-4e82-ac23-de76fddca42f",
   "metadata": {},
   "source": [
    "### Import Required Libraries and Packages"
   ]
  },
  {
   "cell_type": "code",
   "execution_count": 2,
   "id": "19c05bb3-6039-4bf8-9cd5-19b19febc743",
   "metadata": {},
   "outputs": [],
   "source": [
    "# -----------------------------\n",
    "# 📦 Imports\n",
    "# -----------------------------\n",
    "import numpy as np\n",
    "import matplotlib.pyplot as plt\n",
    "import random"
   ]
  },
  {
   "cell_type": "markdown",
   "id": "d8e4d853-5803-4948-9624-5d51a2829732",
   "metadata": {},
   "source": [
    "### Visualize Patches from Dataset"
   ]
  },
  {
   "cell_type": "code",
   "execution_count": 9,
   "id": "213d4855-8ce6-4508-bfd7-55040a0b842a",
   "metadata": {},
   "outputs": [],
   "source": [
    "# -----------------------------\n",
    "# 🔍 Patch Visualization Function\n",
    "# -----------------------------\n",
    "def visualize_labeled_patches(npz_file, samples_per_class=5):\n",
    "    \"\"\"\n",
    "    Display N patch pairs for each label: positive (1), negative (0), hard negative (-1).\n",
    "    \n",
    "    Args:\n",
    "        npz_file (str): Path to .npz file with 'patches' and 'labels'.\n",
    "        samples_per_class (int): Number of patch pairs to show per class.\n",
    "    \"\"\"\n",
    "    data = np.load(npz_file)\n",
    "    patches = data['patches']  # shape: (N, 40, 40, 2)\n",
    "    labels = data['labels']\n",
    "\n",
    "    # Separate indices by label\n",
    "    pos_indices = np.where(labels == 1)[0]\n",
    "    neg_indices = np.where(labels == 0)[0]\n",
    "    hard_neg_indices = np.where(labels == -1)[0]\n",
    "\n",
    "    # Sample required number of indices per class\n",
    "    pos_samples = np.random.choice(pos_indices, samples_per_class, replace=False)\n",
    "    neg_samples = np.random.choice(neg_indices, samples_per_class, replace=False)\n",
    "    hard_neg_samples = np.random.choice(hard_neg_indices, samples_per_class, replace=False)\n",
    "\n",
    "    # Combine all samples for display\n",
    "    all_samples = [\n",
    "        (pos_samples, \"Positive\", \"green\"),\n",
    "        (neg_samples, \"Negative\", \"red\"),\n",
    "        (hard_neg_samples, \"Hard Negative\", \"orange\")\n",
    "    ]\n",
    "\n",
    "    # Plot grid: 3 rows (one per label), N columns\n",
    "    fig, axes = plt.subplots(3, samples_per_class, figsize=(samples_per_class * 2, 6))\n",
    "    fig.suptitle(\"Patch Pairs by Label\", fontsize=16)\n",
    "\n",
    "    for row, (indices, label_text, color) in enumerate(all_samples):\n",
    "        for col, idx in enumerate(indices):\n",
    "            patch_pair = patches[idx]\n",
    "            anchor = patch_pair[:, :, 0]\n",
    "            pair = patch_pair[:, :, 1]\n",
    "\n",
    "            # Concatenate side-by-side\n",
    "            combined = np.concatenate([anchor, pair], axis=1)\n",
    "\n",
    "            ax = axes[row, col]\n",
    "            ax.imshow(combined, cmap='gray')\n",
    "            ax.set_title(label_text, color=color, fontsize=10)\n",
    "            ax.axis('off')\n",
    "\n",
    "    plt.tight_layout()\n",
    "    plt.subplots_adjust(top=0.88)  # Make room for suptitle\n",
    "    plt.show()"
   ]
  },
  {
   "cell_type": "code",
   "execution_count": null,
   "id": "2912f97a-2bde-47ad-bb6b-1fd4bee8103f",
   "metadata": {
    "scrolled": true
   },
   "outputs": [],
   "source": [
    "# -----------------------------\n",
    "# ▶️ Call the function\n",
    "# -----------------------------\n",
    "# Example: Change path if needed\n",
    "visualize_labeled_patches(\"../data/dataset/train_dataset.npz\", samples_per_class=5)"
   ]
  },
  {
   "cell_type": "code",
   "execution_count": null,
   "id": "0eccb018-3b28-48f2-b59c-4dcb77f59bd0",
   "metadata": {},
   "outputs": [],
   "source": []
  }
 ],
 "metadata": {
  "kernelspec": {
   "display_name": "Python 3 (ipykernel)",
   "language": "python",
   "name": "python3"
  },
  "language_info": {
   "codemirror_mode": {
    "name": "ipython",
    "version": 3
   },
   "file_extension": ".py",
   "mimetype": "text/x-python",
   "name": "python",
   "nbconvert_exporter": "python",
   "pygments_lexer": "ipython3",
   "version": "3.12.11"
  }
 },
 "nbformat": 4,
 "nbformat_minor": 5
}
